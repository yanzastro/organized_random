{
 "cells": [
  {
   "cell_type": "markdown",
   "id": "a9604695-caff-44f1-a2b3-2792ac4e5f73",
   "metadata": {},
   "source": [
    "!pip install minisom"
   ]
  },
  {
   "cell_type": "code",
   "execution_count": null,
   "id": "a626a6c0-d9ed-4aee-a14a-07e01ad8d98d",
   "metadata": {},
   "outputs": [],
   "source": [
    "import fitsio\n",
    "from astropy.io import fits\n",
    "import numpy as np\n",
    "from minisom import MiniSom\n",
    "import matplotlib as mpl\n",
    "import healpy as hp\n",
    "import matplotlib.pyplot as plt\n",
    "from tqdm import tqdm\n",
    "\n",
    "mpl.rcParams['figure.dpi'] = 200"
   ]
  },
  {
   "cell_type": "code",
   "execution_count": null,
   "id": "0f8771ad-c22e-4583-b8af-3492962185a5",
   "metadata": {},
   "outputs": [],
   "source": [
    "import sys\n",
    "sys.path.append('../sources')\n",
    "from cat2som import *\n",
    "from OR_weights import *\n",
    "from plot_som import *"
   ]
  },
  {
   "cell_type": "markdown",
   "id": "9ef6c99e-946a-4457-b862-770039870f09",
   "metadata": {},
   "source": [
    "# Prepare the data "
   ]
  },
  {
   "cell_type": "code",
   "execution_count": null,
   "id": "3d9838bf-700a-48d0-abf4-74977f5e398d",
   "metadata": {},
   "outputs": [],
   "source": [
    "Download the file KiDS_DR4.1_ugriZYJHKs_SOM_gold_WL_cat.fits from\n",
    "\n",
    "http://cuillin.roe.ac.uk/~cech/KiDS/KiDS-1000/K1000-SHEAR-9bandPZ-CATALOGUES/KiDS_DR4.1_ugriZYJHKs_SOM_gold_WL_cat.fits\n",
    "\n",
    "by running the following cell (please check the username and password on Lensing KiDS Wiki):\n",
    "\n",
    "!wget -P ../../data --user= --password= http://cuillin.roe.ac.uk/~cech/KiDS/KiDS-1000/K1000-SHEAR-9bandPZ-CATALOGUES/KiDS_DR4.1_ugriZYJHKs_SOM_gold_WL_cat.fits\n",
    "\n",
    "Add this file to the data directory."
   ]
  },
  {
   "cell_type": "markdown",
   "id": "994801de-e890-47b4-b584-939ee5916b2a",
   "metadata": {},
   "source": [
    "Now we creat a smaller subsample of the catalog to make the work faster:"
   ]
  },
  {
   "cell_type": "markdown",
   "id": "f66b280c-b97d-4e2c-8e14-304c4231717b",
   "metadata": {},
   "source": [
    "kids_goldsample = fits.open('../../data/KiDS_DR4.1_ugriZYJHKs_SOM_gold_WL_cat.fits')\n",
    "\n",
    "data_table = kids_goldsample[1].data\n",
    "\n",
    "rows_numbers_to_keep = np.random.choice(len(data_table), 1000000, replace=False)\n",
    "\n",
    "fits.writeto('/net/home/fohlen13/yanza21/DATA/KiDS_data/KiDS_gold_smallsample.fits', kids_goldsample[1].data[rows_numbers_to_keep], overwrite=True)"
   ]
  },
  {
   "cell_type": "code",
   "execution_count": null,
   "id": "b7949ee5-ec83-4464-84d7-44bd642a9467",
   "metadata": {},
   "outputs": [],
   "source": [
    "kids_goldsample = fitsio.FITS('../../data/KiDS_data/KiDS_gold_smallsample.fits')"
   ]
  },
  {
   "cell_type": "markdown",
   "id": "a48a8dfd-8e8c-4694-b2cd-7fcecc775c87",
   "metadata": {},
   "source": [
    "# Data preprocessing"
   ]
  },
  {
   "cell_type": "code",
   "execution_count": null,
   "id": "6935f52c-5fff-4e56-b838-65476d637458",
   "metadata": {},
   "outputs": [],
   "source": [
    "columns_selected = ['MU_THRESHOLD', 'PSF_Q12', 'PSF_e1','PSF_e2', 'MAG_LIM_r', 'EXTINCTION_r']  # columns to be read from the catalog\n",
    "columns_syst = ['MU_THRESHOLD', 'PSF_Q12', 'PSF_ell', 'MAG_LIM_r', 'EXTINCTION_r']  # columns to be used for the training (can be different from columns_selected because some columns may be mixed up)\n",
    "column_edges = np.array([[20,30], [-2, 2], [-1,1],  [20, 30], [-1,1]])  # prior boundaries of each column, used for excluding outliers\n",
    "\n",
    "training_data = []\n",
    "\n",
    "for key in columns_selected:\n",
    "    training_data.append(kids_goldsample[1][key][:10000].tolist())\n",
    "training_data = np.array(training_data).T\n",
    "\n",
    "radec = np.array(kids_goldsample[1]['ALPHA_J2000', 'DELTA_J2000'][:10000].tolist())  # read RA and Dec\n",
    "\n",
    "e = (training_data.T[2]**2 + training_data.T[3]**2) ** 0.5\n",
    "q = (1-e)/(e+1)  # calculate ellipticity from shear components\n",
    "training_data = np.vstack([training_data.T[0], training_data.T[1], 1-q, training_data.T[4], training_data.T[5]]).T\n",
    "\n",
    "### excluding outliers ###\n",
    "\n",
    "outliers = np.zeros(training_data.shape[0])\n",
    "for i in range(training_data.shape[1]):\n",
    "    l = training_data.T[i]\n",
    "        \n",
    "    dist_to_mean = l - l.mean()\n",
    "    std = np.std(l[~np.isnan(l)])\n",
    "    \n",
    "    outliers += np.logical_or(l<column_edges[i][0], l>column_edges[i][1])    \n",
    "    outliers += np.logical_or(l==+np.inf, l==-np.inf)\n",
    "    outliers += np.isnan(l)\n",
    "\n",
    "radec_edges = np.array([[0,360], [-90, 90]])\n",
    "radec = np.round(radec,3)\n",
    "\n",
    "for i in range(2):\n",
    "    radec_i = radec.T[i]\n",
    "    outliers += np.isnan(radec_i)\n",
    "    outliers += np.logical_or(radec_i<radec_edges[i][0], radec_i>radec_edges[i][1])    \n",
    "    outliers += np.logical_or(radec_i==+np.inf, radec_i==-np.inf)\n",
    "    \n",
    "invalid_ind = np.where(outliers>0)[0]\n",
    "\n",
    "radec = np.delete(radec, invalid_ind, axis=0)\n",
    "\n",
    "training_data = np.delete(training_data, invalid_ind, axis=0)\n",
    "training_data_raw = training_data.copy()\n",
    "training_data = (training_data - np.mean(training_data, axis=0)) / np.std(training_data, axis=0)"
   ]
  },
  {
   "cell_type": "markdown",
   "id": "948bb4d1-75f0-4b84-8092-51788e7db3f6",
   "metadata": {},
   "source": [
    "# Define and train a SOM"
   ]
  },
  {
   "cell_type": "code",
   "execution_count": null,
   "id": "c2efe999-1a98-449d-8abd-57cf21f98f77",
   "metadata": {},
   "outputs": [],
   "source": [
    "cat2som_obj = cat2som(training_data, columns_syst, sigma=1, learning_rate=1, \n",
    "              neighborhood_function='gaussian', topology='hexagonal', random_seed=0)"
   ]
  },
  {
   "cell_type": "code",
   "execution_count": null,
   "id": "cb8d57a7-7694-4bbf-908b-3d2a692c95d3",
   "metadata": {},
   "outputs": [],
   "source": [
    "cat2som_obj.train_som(5000)"
   ]
  },
  {
   "cell_type": "markdown",
   "id": "49624223-6dd2-41bd-b59f-5148856289e0",
   "metadata": {},
   "source": [
    "# Test the SOM with a subset of the training data"
   ]
  },
  {
   "cell_type": "code",
   "execution_count": null,
   "id": "c1cb515a-6556-4faf-bccb-af9953c76de4",
   "metadata": {},
   "outputs": [],
   "source": [
    "test_ind = np.arange(5000)\n",
    "testing_data = training_data#[test_ind]\n",
    "testing_radec = radec#[test_ind]\n",
    "umatrix = cat2som_obj.get_activation_map(testing_data) "
   ]
  },
  {
   "cell_type": "code",
   "execution_count": null,
   "id": "a33d490b-4cef-4adc-ace6-bd7dd0980995",
   "metadata": {},
   "outputs": [],
   "source": [
    "winner_x, winner_y, winner_1dind = cat2som_obj.get_winner_ind(testing_data)"
   ]
  },
  {
   "cell_type": "markdown",
   "id": "7f121a59-6ea8-4356-9a5d-d9c71caa7a13",
   "metadata": {},
   "source": [
    "## let's check MU_THRESHOLD of each SOM cell"
   ]
  },
  {
   "cell_type": "code",
   "execution_count": null,
   "id": "107c008f-0bde-4090-b764-b87de7504e07",
   "metadata": {},
   "outputs": [],
   "source": [
    "feature_map_dict = cat2som_obj.get_feature_map(testing_data, col_ind=0, x=winner_x.astype(np.int), y=winner_y.astype(np.int), activation_map=umatrix)\n",
    "feature_map = feature_map_dict['feature_map']\n",
    "feature_map_name = feature_map_dict['colname']"
   ]
  },
  {
   "cell_type": "code",
   "execution_count": null,
   "id": "43b24d9a-0edc-433b-ace5-c61b26e90868",
   "metadata": {},
   "outputs": [],
   "source": [
    "import matplotlib.pyplot as plt\n",
    "\n",
    "f = plt.figure(figsize=(10,10))\n",
    "ax = f.add_subplot(111)\n",
    "ax.set_aspect('equal')\n",
    "\n",
    "plot_som(ax, feature_map, topology='hex', colormap=cm.coolwarm, cbar_name=feature_map_name)"
   ]
  },
  {
   "cell_type": "code",
   "execution_count": null,
   "id": "5ba78c00-16b9-413d-8004-f25310004567",
   "metadata": {},
   "outputs": [],
   "source": [
    "# plot the number of sources in each SOM cell\n",
    "\n",
    "f = plt.figure(figsize=(10,10))\n",
    "ax = f.add_subplot(111)\n",
    "\n",
    "ax.set_aspect('equal')\n",
    "plot_som(ax, umatrix, topology='hex', colormap=cm.coolwarm)"
   ]
  },
  {
   "cell_type": "markdown",
   "id": "81a35384-eae3-4637-a986-6c5533b02768",
   "metadata": {},
   "source": [
    "# Calculate and plot the organized random weights"
   ]
  },
  {
   "cell_type": "code",
   "execution_count": null,
   "id": "cc20799b-9432-4d38-86ae-8217147c83ae",
   "metadata": {},
   "outputs": [],
   "source": [
    "Ns = 256\n",
    "weight_map = calculate_or_weights(Ns, testing_radec, winner_1dind)"
   ]
  },
  {
   "cell_type": "code",
   "execution_count": null,
   "id": "0a9e80cb-9b94-415a-90a9-844b00999657",
   "metadata": {},
   "outputs": [],
   "source": [
    "hp.cartview(weight_map, lonra=[125, 240], latra=[-5,4], xsize=8000, title='KiDS-North')"
   ]
  },
  {
   "cell_type": "code",
   "execution_count": null,
   "id": "58bccac3-c13f-4ed8-b7a2-56534a83514a",
   "metadata": {},
   "outputs": [],
   "source": [
    "hp.cartview(weight_map, lonra=[-31, 55], latra=[-37,-26], title='KiDS-South')\n"
   ]
  },
  {
   "cell_type": "markdown",
   "id": "6b795a07-5c45-42f6-a1cf-9efb21e9e687",
   "metadata": {},
   "source": [
    "## Plot the spatial distribution of each systematics"
   ]
  },
  {
   "cell_type": "code",
   "execution_count": null,
   "id": "93e9ff44-eda0-4e0a-9013-29064f0f64de",
   "metadata": {},
   "outputs": [],
   "source": [
    "for sys_ind in range(training_data.shape[1]):\n",
    "    #sys_ind = 1\n",
    "    hp.cartview(np.ones_like(weight_map)*hp.UNSEEN, lonra=[-31, 55], latra=[-37,-26], title='KiDS-South, '+columns_syst[sys_ind], flip='geo', cbar=None)\n",
    "    hp.projscatter(testing_radec.T[0], testing_radec.T[1], lonlat=True, c=testing_data.T[sys_ind], cmap='coolwarm', s=0.1, marker='s',\n",
    "                   vmin=np.quantile(testing_data.T[sys_ind],0.01), vmax=np.quantile(testing_data.T[sys_ind], 0.99))"
   ]
  },
  {
   "cell_type": "code",
   "execution_count": null,
   "id": "64dbb6c4-d13f-4993-9d10-afd7170422ce",
   "metadata": {},
   "outputs": [],
   "source": [
    "for sys_ind in range(training_data.shape[1]):\n",
    "    hp.cartview(np.ones_like(weight_map)*hp.UNSEEN, lonra=[125-180, 240-180], latra=[-5,4], title='KiDS-North, '+columns_syst[sys_ind], flip='geo', cbar=None)\n",
    "    hp.projscatter(testing_radec.T[0]-180, testing_radec.T[1], lonlat=True, c=testing_data.T[sys_ind], cmap='coolwarm', s=.1, marker='s',\n",
    "              vmin=np.quantile(testing_data.T[sys_ind],0.01), vmax=np.quantile(testing_data.T[sys_ind], 0.99))\n"
   ]
  }
 ],
 "metadata": {
  "kernelspec": {
   "display_name": "Python 3",
   "language": "python",
   "name": "python3"
  },
  "language_info": {
   "codemirror_mode": {
    "name": "ipython",
    "version": 3
   },
   "file_extension": ".py",
   "mimetype": "text/x-python",
   "name": "python",
   "nbconvert_exporter": "python",
   "pygments_lexer": "ipython3",
   "version": "3.6.13"
  },
  "widgets": {
   "application/vnd.jupyter.widget-state+json": {
    "state": {},
    "version_major": 2,
    "version_minor": 0
   }
  }
 },
 "nbformat": 4,
 "nbformat_minor": 5
}
